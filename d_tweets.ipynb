{
 "cells": [
  {
   "cell_type": "code",
   "execution_count": 1,
   "metadata": {
    "_cell_guid": "b1076dfc-b9ad-4769-8c92-a6c4dae69d19",
    "_uuid": "8f2839f25d086af736a60e9eeb907d3b93b6e0e5",
    "execution": {
     "iopub.execute_input": "2021-03-14T12:37:47.018777Z",
     "iopub.status.busy": "2021-03-14T12:37:47.018203Z",
     "iopub.status.idle": "2021-03-14T12:37:52.476440Z",
     "shell.execute_reply": "2021-03-14T12:37:52.477699Z"
    },
    "papermill": {
     "duration": 5.480901,
     "end_time": "2021-03-14T12:37:52.477916",
     "exception": false,
     "start_time": "2021-03-14T12:37:46.997015",
     "status": "completed"
    },
    "tags": []
   },
   "outputs": [
    {
     "name": "stdout",
     "output_type": "stream",
     "text": [
      "/kaggle/input/nlp-getting-started/sample_submission.csv\n",
      "/kaggle/input/nlp-getting-started/train.csv\n",
      "/kaggle/input/nlp-getting-started/test.csv\n"
     ]
    }
   ],
   "source": [
    "from keras import Model\n",
    "from keras import Input\n",
    "from keras.layers import LSTM\n",
    "from keras.layers import Embedding\n",
    "from keras.layers import Dense\n",
    "from keras.layers import Dropout\n",
    "from keras.preprocessing.text import Tokenizer\n",
    "from keras.preprocessing import sequence\n",
    "import numpy as np\n",
    "import pandas as pd\n",
    "\n",
    "import os\n",
    "for dirname, _, filenames in os.walk('/kaggle/input'):\n",
    "    for filename in filenames:\n",
    "        print(os.path.join(dirname, filename))"
   ]
  },
  {
   "cell_type": "code",
   "execution_count": 2,
   "metadata": {
    "_cell_guid": "79c7e3d0-c299-4dcb-8224-4455121ee9b0",
    "_uuid": "d629ff2d2480ee46fbb7e2d37f6b5fab8052498a",
    "execution": {
     "iopub.execute_input": "2021-03-14T12:37:52.535804Z",
     "iopub.status.busy": "2021-03-14T12:37:52.534836Z",
     "iopub.status.idle": "2021-03-14T12:37:52.621040Z",
     "shell.execute_reply": "2021-03-14T12:37:52.622211Z"
    },
    "papermill": {
     "duration": 0.119449,
     "end_time": "2021-03-14T12:37:52.622372",
     "exception": false,
     "start_time": "2021-03-14T12:37:52.502923",
     "status": "completed"
    },
    "tags": []
   },
   "outputs": [],
   "source": [
    "sample = pd.read_csv(\"/kaggle/input/nlp-getting-started/sample_submission.csv\")\n",
    "train_df = pd.read_csv(\"/kaggle/input/nlp-getting-started/train.csv\")\n",
    "test_df = pd.read_csv(\"/kaggle/input/nlp-getting-started/test.csv\")"
   ]
  },
  {
   "cell_type": "code",
   "execution_count": 3,
   "metadata": {
    "execution": {
     "iopub.execute_input": "2021-03-14T12:37:52.679623Z",
     "iopub.status.busy": "2021-03-14T12:37:52.674753Z",
     "iopub.status.idle": "2021-03-14T12:37:52.719772Z",
     "shell.execute_reply": "2021-03-14T12:37:52.720899Z"
    },
    "papermill": {
     "duration": 0.075365,
     "end_time": "2021-03-14T12:37:52.721069",
     "exception": false,
     "start_time": "2021-03-14T12:37:52.645704",
     "status": "completed"
    },
    "tags": []
   },
   "outputs": [
    {
     "data": {
      "text/html": [
       "<div>\n",
       "<style scoped>\n",
       "    .dataframe tbody tr th:only-of-type {\n",
       "        vertical-align: middle;\n",
       "    }\n",
       "\n",
       "    .dataframe tbody tr th {\n",
       "        vertical-align: top;\n",
       "    }\n",
       "\n",
       "    .dataframe thead th {\n",
       "        text-align: right;\n",
       "    }\n",
       "</style>\n",
       "<table border=\"1\" class=\"dataframe\">\n",
       "  <thead>\n",
       "    <tr style=\"text-align: right;\">\n",
       "      <th></th>\n",
       "      <th>id</th>\n",
       "      <th>keyword</th>\n",
       "      <th>location</th>\n",
       "      <th>text</th>\n",
       "      <th>target</th>\n",
       "    </tr>\n",
       "  </thead>\n",
       "  <tbody>\n",
       "    <tr>\n",
       "      <th>0</th>\n",
       "      <td>1</td>\n",
       "      <td>NaN</td>\n",
       "      <td>NaN</td>\n",
       "      <td>Our Deeds are the Reason of this #earthquake M...</td>\n",
       "      <td>1</td>\n",
       "    </tr>\n",
       "    <tr>\n",
       "      <th>1</th>\n",
       "      <td>4</td>\n",
       "      <td>NaN</td>\n",
       "      <td>NaN</td>\n",
       "      <td>Forest fire near La Ronge Sask. Canada</td>\n",
       "      <td>1</td>\n",
       "    </tr>\n",
       "    <tr>\n",
       "      <th>2</th>\n",
       "      <td>5</td>\n",
       "      <td>NaN</td>\n",
       "      <td>NaN</td>\n",
       "      <td>All residents asked to 'shelter in place' are ...</td>\n",
       "      <td>1</td>\n",
       "    </tr>\n",
       "    <tr>\n",
       "      <th>3</th>\n",
       "      <td>6</td>\n",
       "      <td>NaN</td>\n",
       "      <td>NaN</td>\n",
       "      <td>13,000 people receive #wildfires evacuation or...</td>\n",
       "      <td>1</td>\n",
       "    </tr>\n",
       "    <tr>\n",
       "      <th>4</th>\n",
       "      <td>7</td>\n",
       "      <td>NaN</td>\n",
       "      <td>NaN</td>\n",
       "      <td>Just got sent this photo from Ruby #Alaska as ...</td>\n",
       "      <td>1</td>\n",
       "    </tr>\n",
       "  </tbody>\n",
       "</table>\n",
       "</div>"
      ],
      "text/plain": [
       "   id keyword location                                               text  \\\n",
       "0   1     NaN      NaN  Our Deeds are the Reason of this #earthquake M...   \n",
       "1   4     NaN      NaN             Forest fire near La Ronge Sask. Canada   \n",
       "2   5     NaN      NaN  All residents asked to 'shelter in place' are ...   \n",
       "3   6     NaN      NaN  13,000 people receive #wildfires evacuation or...   \n",
       "4   7     NaN      NaN  Just got sent this photo from Ruby #Alaska as ...   \n",
       "\n",
       "   target  \n",
       "0       1  \n",
       "1       1  \n",
       "2       1  \n",
       "3       1  \n",
       "4       1  "
      ]
     },
     "metadata": {},
     "output_type": "display_data"
    },
    {
     "data": {
      "text/html": [
       "<div>\n",
       "<style scoped>\n",
       "    .dataframe tbody tr th:only-of-type {\n",
       "        vertical-align: middle;\n",
       "    }\n",
       "\n",
       "    .dataframe tbody tr th {\n",
       "        vertical-align: top;\n",
       "    }\n",
       "\n",
       "    .dataframe thead th {\n",
       "        text-align: right;\n",
       "    }\n",
       "</style>\n",
       "<table border=\"1\" class=\"dataframe\">\n",
       "  <thead>\n",
       "    <tr style=\"text-align: right;\">\n",
       "      <th></th>\n",
       "      <th>id</th>\n",
       "      <th>keyword</th>\n",
       "      <th>location</th>\n",
       "      <th>text</th>\n",
       "    </tr>\n",
       "  </thead>\n",
       "  <tbody>\n",
       "    <tr>\n",
       "      <th>0</th>\n",
       "      <td>0</td>\n",
       "      <td>NaN</td>\n",
       "      <td>NaN</td>\n",
       "      <td>Just happened a terrible car crash</td>\n",
       "    </tr>\n",
       "    <tr>\n",
       "      <th>1</th>\n",
       "      <td>2</td>\n",
       "      <td>NaN</td>\n",
       "      <td>NaN</td>\n",
       "      <td>Heard about #earthquake is different cities, s...</td>\n",
       "    </tr>\n",
       "    <tr>\n",
       "      <th>2</th>\n",
       "      <td>3</td>\n",
       "      <td>NaN</td>\n",
       "      <td>NaN</td>\n",
       "      <td>there is a forest fire at spot pond, geese are...</td>\n",
       "    </tr>\n",
       "    <tr>\n",
       "      <th>3</th>\n",
       "      <td>9</td>\n",
       "      <td>NaN</td>\n",
       "      <td>NaN</td>\n",
       "      <td>Apocalypse lighting. #Spokane #wildfires</td>\n",
       "    </tr>\n",
       "    <tr>\n",
       "      <th>4</th>\n",
       "      <td>11</td>\n",
       "      <td>NaN</td>\n",
       "      <td>NaN</td>\n",
       "      <td>Typhoon Soudelor kills 28 in China and Taiwan</td>\n",
       "    </tr>\n",
       "  </tbody>\n",
       "</table>\n",
       "</div>"
      ],
      "text/plain": [
       "   id keyword location                                               text\n",
       "0   0     NaN      NaN                 Just happened a terrible car crash\n",
       "1   2     NaN      NaN  Heard about #earthquake is different cities, s...\n",
       "2   3     NaN      NaN  there is a forest fire at spot pond, geese are...\n",
       "3   9     NaN      NaN           Apocalypse lighting. #Spokane #wildfires\n",
       "4  11     NaN      NaN      Typhoon Soudelor kills 28 in China and Taiwan"
      ]
     },
     "metadata": {},
     "output_type": "display_data"
    }
   ],
   "source": [
    "display(train_df.head())\n",
    "display(test_df.head())"
   ]
  },
  {
   "cell_type": "code",
   "execution_count": 4,
   "metadata": {
    "execution": {
     "iopub.execute_input": "2021-03-14T12:37:52.777598Z",
     "iopub.status.busy": "2021-03-14T12:37:52.776765Z",
     "iopub.status.idle": "2021-03-14T12:37:52.779114Z",
     "shell.execute_reply": "2021-03-14T12:37:52.778375Z"
    },
    "papermill": {
     "duration": 0.030891,
     "end_time": "2021-03-14T12:37:52.779236",
     "exception": false,
     "start_time": "2021-03-14T12:37:52.748345",
     "status": "completed"
    },
    "tags": []
   },
   "outputs": [],
   "source": [
    "# MODEL\n",
    "BATCH_SIZE  = 128\n",
    "EPOCH       = 3\n",
    "VAL_SPLIT   = 0.15  #15%\n",
    "\n",
    "# TOKENIZER\n",
    "# The maximum number of words to be used. (most frequent)\n",
    "MAX_WORDS = 20000\n",
    "# Max number of words in each complaint.\n",
    "MAX_SEQUENCE_LENGTH = 150"
   ]
  },
  {
   "cell_type": "markdown",
   "metadata": {
    "papermill": {
     "duration": 0.019524,
     "end_time": "2021-03-14T12:37:52.818364",
     "exception": false,
     "start_time": "2021-03-14T12:37:52.798840",
     "status": "completed"
    },
    "tags": []
   },
   "source": [
    "## Preprocessing"
   ]
  },
  {
   "cell_type": "code",
   "execution_count": 5,
   "metadata": {
    "execution": {
     "iopub.execute_input": "2021-03-14T12:37:52.868696Z",
     "iopub.status.busy": "2021-03-14T12:37:52.865140Z",
     "iopub.status.idle": "2021-03-14T12:37:52.869587Z",
     "shell.execute_reply": "2021-03-14T12:37:52.870204Z"
    },
    "papermill": {
     "duration": 0.031596,
     "end_time": "2021-03-14T12:37:52.870347",
     "exception": false,
     "start_time": "2021-03-14T12:37:52.838751",
     "status": "completed"
    },
    "tags": []
   },
   "outputs": [],
   "source": [
    "Y = pd.get_dummies(train_df.target)\n",
    "CLASS_NUM = Y.shape[1]"
   ]
  },
  {
   "cell_type": "markdown",
   "metadata": {
    "papermill": {
     "duration": 0.019024,
     "end_time": "2021-03-14T12:37:52.908014",
     "exception": false,
     "start_time": "2021-03-14T12:37:52.888990",
     "status": "completed"
    },
    "tags": []
   },
   "source": [
    "### Tokenize"
   ]
  },
  {
   "cell_type": "code",
   "execution_count": 6,
   "metadata": {
    "execution": {
     "iopub.execute_input": "2021-03-14T12:37:52.957010Z",
     "iopub.status.busy": "2021-03-14T12:37:52.956152Z",
     "iopub.status.idle": "2021-03-14T12:37:52.958656Z",
     "shell.execute_reply": "2021-03-14T12:37:52.958229Z"
    },
    "papermill": {
     "duration": 0.025799,
     "end_time": "2021-03-14T12:37:52.958755",
     "exception": false,
     "start_time": "2021-03-14T12:37:52.932956",
     "status": "completed"
    },
    "tags": []
   },
   "outputs": [],
   "source": [
    "all_text = train_df.text.append(test_df.text, ignore_index=True)"
   ]
  },
  {
   "cell_type": "code",
   "execution_count": 7,
   "metadata": {
    "execution": {
     "iopub.execute_input": "2021-03-14T12:37:53.009412Z",
     "iopub.status.busy": "2021-03-14T12:37:53.008641Z",
     "iopub.status.idle": "2021-03-14T12:37:53.406789Z",
     "shell.execute_reply": "2021-03-14T12:37:53.407204Z"
    },
    "papermill": {
     "duration": 0.435204,
     "end_time": "2021-03-14T12:37:53.407338",
     "exception": false,
     "start_time": "2021-03-14T12:37:52.972134",
     "status": "completed"
    },
    "tags": []
   },
   "outputs": [
    {
     "name": "stdout",
     "output_type": "stream",
     "text": [
      "CPU times: user 377 ms, sys: 8.5 ms, total: 385 ms\n",
      "Wall time: 413 ms\n"
     ]
    }
   ],
   "source": [
    "%%time\n",
    "tokenize = Tokenizer(num_words=MAX_WORDS)\n",
    "tokenize.fit_on_texts(all_text)"
   ]
  },
  {
   "cell_type": "code",
   "execution_count": 8,
   "metadata": {
    "execution": {
     "iopub.execute_input": "2021-03-14T12:37:53.469830Z",
     "iopub.status.busy": "2021-03-14T12:37:53.449126Z",
     "iopub.status.idle": "2021-03-14T12:37:53.652137Z",
     "shell.execute_reply": "2021-03-14T12:37:53.651689Z"
    },
    "papermill": {
     "duration": 0.230049,
     "end_time": "2021-03-14T12:37:53.652232",
     "exception": false,
     "start_time": "2021-03-14T12:37:53.422183",
     "status": "completed"
    },
    "tags": []
   },
   "outputs": [
    {
     "name": "stdout",
     "output_type": "stream",
     "text": [
      "(7613, 150)\n",
      "CPU times: user 203 ms, sys: 1.73 ms, total: 205 ms\n",
      "Wall time: 208 ms\n"
     ]
    }
   ],
   "source": [
    "%%time\n",
    "sequences = tokenize.texts_to_sequences(train_df.text)\n",
    "sequences_matrix = sequence.pad_sequences(sequences,maxlen=MAX_SEQUENCE_LENGTH)\n",
    "print(sequences_matrix.shape)"
   ]
  },
  {
   "cell_type": "code",
   "execution_count": 9,
   "metadata": {
    "execution": {
     "iopub.execute_input": "2021-03-14T12:37:53.691236Z",
     "iopub.status.busy": "2021-03-14T12:37:53.690017Z",
     "iopub.status.idle": "2021-03-14T12:37:53.693524Z",
     "shell.execute_reply": "2021-03-14T12:37:53.693043Z"
    },
    "papermill": {
     "duration": 0.026284,
     "end_time": "2021-03-14T12:37:53.693627",
     "exception": false,
     "start_time": "2021-03-14T12:37:53.667343",
     "status": "completed"
    },
    "tags": []
   },
   "outputs": [
    {
     "name": "stdout",
     "output_type": "stream",
     "text": [
      "Forest fire near La Ronge Sask. Canada\n",
      "[   0    0    0    0    0    0    0    0    0    0    0    0    0    0\n",
      "    0    0    0    0    0    0    0    0    0    0    0    0    0    0\n",
      "    0    0    0    0    0    0    0    0    0    0    0    0    0    0\n",
      "    0    0    0    0    0    0    0    0    0    0    0    0    0    0\n",
      "    0    0    0    0    0    0    0    0    0    0    0    0    0    0\n",
      "    0    0    0    0    0    0    0    0    0    0    0    0    0    0\n",
      "    0    0    0    0    0    0    0    0    0    0    0    0    0    0\n",
      "    0    0    0    0    0    0    0    0    0    0    0    0    0    0\n",
      "    0    0    0    0    0    0    0    0    0    0    0    0    0    0\n",
      "    0    0    0    0    0    0    0    0    0    0    0    0    0    0\n",
      "    0    0    0  168   43  212  927 8813 8814 1442]\n"
     ]
    }
   ],
   "source": [
    "print(train_df.text[1])\n",
    "print(sequences_matrix[1])"
   ]
  },
  {
   "cell_type": "code",
   "execution_count": 10,
   "metadata": {
    "execution": {
     "iopub.execute_input": "2021-03-14T12:37:53.732013Z",
     "iopub.status.busy": "2021-03-14T12:37:53.730636Z",
     "iopub.status.idle": "2021-03-14T12:37:53.733279Z",
     "shell.execute_reply": "2021-03-14T12:37:53.733848Z"
    },
    "papermill": {
     "duration": 0.024711,
     "end_time": "2021-03-14T12:37:53.733955",
     "exception": false,
     "start_time": "2021-03-14T12:37:53.709244",
     "status": "completed"
    },
    "tags": []
   },
   "outputs": [],
   "source": [
    "def RNN():\n",
    "    inputs = Input(name='inputs',shape=[MAX_SEQUENCE_LENGTH])\n",
    "    layer = Embedding(MAX_WORDS,50,input_length=MAX_SEQUENCE_LENGTH)(inputs)\n",
    "    layer = LSTM(100)(layer)\n",
    "    layer = Dense(256, activation='relu', name='FC1')(layer)\n",
    "    layer = Dropout(0.5)(layer)\n",
    "    layer = Dense(CLASS_NUM, activation='sigmoid', name='out_layer')(layer)\n",
    "    model = Model(inputs=inputs,outputs=layer)\n",
    "    return model"
   ]
  },
  {
   "cell_type": "code",
   "execution_count": 11,
   "metadata": {
    "execution": {
     "iopub.execute_input": "2021-03-14T12:37:53.767949Z",
     "iopub.status.busy": "2021-03-14T12:37:53.767149Z",
     "iopub.status.idle": "2021-03-14T12:37:56.834570Z",
     "shell.execute_reply": "2021-03-14T12:37:56.835246Z"
    },
    "papermill": {
     "duration": 3.086785,
     "end_time": "2021-03-14T12:37:56.835421",
     "exception": false,
     "start_time": "2021-03-14T12:37:53.748636",
     "status": "completed"
    },
    "tags": []
   },
   "outputs": [
    {
     "name": "stdout",
     "output_type": "stream",
     "text": [
      "Model: \"functional_1\"\n",
      "_________________________________________________________________\n",
      "Layer (type)                 Output Shape              Param #   \n",
      "=================================================================\n",
      "inputs (InputLayer)          [(None, 150)]             0         \n",
      "_________________________________________________________________\n",
      "embedding (Embedding)        (None, 150, 50)           1000000   \n",
      "_________________________________________________________________\n",
      "lstm (LSTM)                  (None, 100)               60400     \n",
      "_________________________________________________________________\n",
      "FC1 (Dense)                  (None, 256)               25856     \n",
      "_________________________________________________________________\n",
      "dropout (Dropout)            (None, 256)               0         \n",
      "_________________________________________________________________\n",
      "out_layer (Dense)            (None, 2)                 514       \n",
      "=================================================================\n",
      "Total params: 1,086,770\n",
      "Trainable params: 1,086,770\n",
      "Non-trainable params: 0\n",
      "_________________________________________________________________\n"
     ]
    }
   ],
   "source": [
    "model = RNN()\n",
    "model.summary()\n",
    "model.compile(loss='categorical_crossentropy', optimizer='adam', metrics=['accuracy'])"
   ]
  },
  {
   "cell_type": "code",
   "execution_count": 12,
   "metadata": {
    "execution": {
     "iopub.execute_input": "2021-03-14T12:37:56.871097Z",
     "iopub.status.busy": "2021-03-14T12:37:56.870534Z",
     "iopub.status.idle": "2021-03-14T12:38:04.749101Z",
     "shell.execute_reply": "2021-03-14T12:38:04.748547Z"
    },
    "papermill": {
     "duration": 7.898071,
     "end_time": "2021-03-14T12:38:04.749212",
     "exception": false,
     "start_time": "2021-03-14T12:37:56.851141",
     "status": "completed"
    },
    "tags": []
   },
   "outputs": [
    {
     "name": "stdout",
     "output_type": "stream",
     "text": [
      "Epoch 1/3\n",
      "51/51 [==============================] - 1s 29ms/step - loss: 0.6379 - accuracy: 0.6294 - val_loss: 0.5589 - val_accuracy: 0.7320\n",
      "Epoch 2/3\n",
      "51/51 [==============================] - 1s 23ms/step - loss: 0.3722 - accuracy: 0.8462 - val_loss: 0.4671 - val_accuracy: 0.7951\n",
      "Epoch 3/3\n",
      "51/51 [==============================] - 1s 22ms/step - loss: 0.1915 - accuracy: 0.9297 - val_loss: 0.5579 - val_accuracy: 0.7662\n"
     ]
    }
   ],
   "source": [
    "history = model.fit(sequences_matrix,Y,\n",
    "                    batch_size=BATCH_SIZE,\n",
    "                    epochs=EPOCH,\n",
    "                    validation_split=VAL_SPLIT)"
   ]
  },
  {
   "cell_type": "markdown",
   "metadata": {
    "papermill": {
     "duration": 0.03228,
     "end_time": "2021-03-14T12:38:04.845083",
     "exception": false,
     "start_time": "2021-03-14T12:38:04.812803",
     "status": "completed"
    },
    "tags": []
   },
   "source": [
    "## Submission"
   ]
  },
  {
   "cell_type": "code",
   "execution_count": 13,
   "metadata": {
    "execution": {
     "iopub.execute_input": "2021-03-14T12:38:04.957025Z",
     "iopub.status.busy": "2021-03-14T12:38:04.941481Z",
     "iopub.status.idle": "2021-03-14T12:38:05.004408Z",
     "shell.execute_reply": "2021-03-14T12:38:05.004814Z"
    },
    "papermill": {
     "duration": 0.128551,
     "end_time": "2021-03-14T12:38:05.004944",
     "exception": false,
     "start_time": "2021-03-14T12:38:04.876393",
     "status": "completed"
    },
    "tags": []
   },
   "outputs": [],
   "source": [
    "test_sequences = tokenize.texts_to_sequences(test_df.text)\n",
    "test_sequences_matrix = sequence.pad_sequences(test_sequences,maxlen=MAX_SEQUENCE_LENGTH)"
   ]
  },
  {
   "cell_type": "code",
   "execution_count": 14,
   "metadata": {
    "execution": {
     "iopub.execute_input": "2021-03-14T12:38:05.072671Z",
     "iopub.status.busy": "2021-03-14T12:38:05.071888Z",
     "iopub.status.idle": "2021-03-14T12:38:05.722244Z",
     "shell.execute_reply": "2021-03-14T12:38:05.721513Z"
    },
    "papermill": {
     "duration": 0.685713,
     "end_time": "2021-03-14T12:38:05.722347",
     "exception": false,
     "start_time": "2021-03-14T12:38:05.036634",
     "status": "completed"
    },
    "tags": []
   },
   "outputs": [
    {
     "name": "stdout",
     "output_type": "stream",
     "text": [
      "CPU times: user 657 ms, sys: 34.2 ms, total: 691 ms\n",
      "Wall time: 647 ms\n"
     ]
    }
   ],
   "source": [
    "%%time\n",
    "predict_proba = model.predict(test_sequences_matrix)"
   ]
  },
  {
   "cell_type": "code",
   "execution_count": 15,
   "metadata": {
    "execution": {
     "iopub.execute_input": "2021-03-14T12:38:05.789827Z",
     "iopub.status.busy": "2021-03-14T12:38:05.789279Z",
     "iopub.status.idle": "2021-03-14T12:38:05.990972Z",
     "shell.execute_reply": "2021-03-14T12:38:05.991368Z"
    },
    "papermill": {
     "duration": 0.237907,
     "end_time": "2021-03-14T12:38:05.991495",
     "exception": false,
     "start_time": "2021-03-14T12:38:05.753588",
     "status": "completed"
    },
    "tags": []
   },
   "outputs": [
    {
     "data": {
      "text/html": [
       "<div>\n",
       "<style scoped>\n",
       "    .dataframe tbody tr th:only-of-type {\n",
       "        vertical-align: middle;\n",
       "    }\n",
       "\n",
       "    .dataframe tbody tr th {\n",
       "        vertical-align: top;\n",
       "    }\n",
       "\n",
       "    .dataframe thead th {\n",
       "        text-align: right;\n",
       "    }\n",
       "</style>\n",
       "<table border=\"1\" class=\"dataframe\">\n",
       "  <thead>\n",
       "    <tr style=\"text-align: right;\">\n",
       "      <th></th>\n",
       "      <th>0</th>\n",
       "      <th>1</th>\n",
       "    </tr>\n",
       "  </thead>\n",
       "  <tbody>\n",
       "    <tr>\n",
       "      <th>0</th>\n",
       "      <td>0.345722</td>\n",
       "      <td>0.576475</td>\n",
       "    </tr>\n",
       "    <tr>\n",
       "      <th>1</th>\n",
       "      <td>0.096031</td>\n",
       "      <td>0.816121</td>\n",
       "    </tr>\n",
       "    <tr>\n",
       "      <th>2</th>\n",
       "      <td>0.018097</td>\n",
       "      <td>0.936158</td>\n",
       "    </tr>\n",
       "    <tr>\n",
       "      <th>3</th>\n",
       "      <td>0.057417</td>\n",
       "      <td>0.871084</td>\n",
       "    </tr>\n",
       "    <tr>\n",
       "      <th>4</th>\n",
       "      <td>0.003003</td>\n",
       "      <td>0.981461</td>\n",
       "    </tr>\n",
       "  </tbody>\n",
       "</table>\n",
       "</div>"
      ],
      "text/plain": [
       "          0         1\n",
       "0  0.345722  0.576475\n",
       "1  0.096031  0.816121\n",
       "2  0.018097  0.936158\n",
       "3  0.057417  0.871084\n",
       "4  0.003003  0.981461"
      ]
     },
     "execution_count": 15,
     "metadata": {},
     "output_type": "execute_result"
    }
   ],
   "source": [
    "predict_proba = pd.DataFrame(predict_proba, columns=Y.columns)\n",
    "predict_proba.to_csv('predict_proba.csv', index=False)\n",
    "predict_proba.head()"
   ]
  },
  {
   "cell_type": "markdown",
   "metadata": {
    "papermill": {
     "duration": 0.031771,
     "end_time": "2021-03-14T12:38:06.057429",
     "exception": false,
     "start_time": "2021-03-14T12:38:06.025658",
     "status": "completed"
    },
    "tags": []
   },
   "source": [
    "## Output"
   ]
  },
  {
   "cell_type": "code",
   "execution_count": 16,
   "metadata": {
    "execution": {
     "iopub.execute_input": "2021-03-14T12:38:06.133750Z",
     "iopub.status.busy": "2021-03-14T12:38:06.127534Z",
     "iopub.status.idle": "2021-03-14T12:38:06.136487Z",
     "shell.execute_reply": "2021-03-14T12:38:06.136048Z"
    },
    "papermill": {
     "duration": 0.047259,
     "end_time": "2021-03-14T12:38:06.136570",
     "exception": false,
     "start_time": "2021-03-14T12:38:06.089311",
     "status": "completed"
    },
    "tags": []
   },
   "outputs": [],
   "source": [
    "predict_target = Y.columns[np.argmax(predict_proba.values, axis=1)]\n",
    "submission = pd.DataFrame({'id':sample['id'], \n",
    "                           'target':predict_target})\n",
    "\n",
    "submission.to_csv('submission.csv', index=False)"
   ]
  }
 ],
 "metadata": {
  "kernelspec": {
   "display_name": "Python 3",
   "language": "python",
   "name": "python3"
  },
  "language_info": {
   "codemirror_mode": {
    "name": "ipython",
    "version": 3
   },
   "file_extension": ".py",
   "mimetype": "text/x-python",
   "name": "python",
   "nbconvert_exporter": "python",
   "pygments_lexer": "ipython3",
   "version": "3.7.6"
  },
  "papermill": {
   "duration": 24.776168,
   "end_time": "2021-03-14T12:38:07.832332",
   "environment_variables": {},
   "exception": null,
   "input_path": "__notebook__.ipynb",
   "output_path": "__notebook__.ipynb",
   "parameters": {},
   "start_time": "2021-03-14T12:37:43.056164",
   "version": "2.1.0"
  }
 },
 "nbformat": 4,
 "nbformat_minor": 4
}
